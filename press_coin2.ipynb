{
 "cells": [
  {
   "cell_type": "code",
   "execution_count": 1,
   "id": "6068b557",
   "metadata": {},
   "outputs": [],
   "source": [
    "import numpy as np\n",
    "import pandas as pd"
   ]
  },
  {
   "cell_type": "code",
   "execution_count": 3,
   "id": "5235c624",
   "metadata": {},
   "outputs": [],
   "source": [
    "df = pd.read_excel(\"coindata.xlsx\")"
   ]
  },
  {
   "cell_type": "code",
   "execution_count": 4,
   "id": "2e05b816",
   "metadata": {
    "scrolled": true
   },
   "outputs": [
    {
     "data": {
      "text/html": [
       "<div>\n",
       "<style scoped>\n",
       "    .dataframe tbody tr th:only-of-type {\n",
       "        vertical-align: middle;\n",
       "    }\n",
       "\n",
       "    .dataframe tbody tr th {\n",
       "        vertical-align: top;\n",
       "    }\n",
       "\n",
       "    .dataframe thead th {\n",
       "        text-align: right;\n",
       "    }\n",
       "</style>\n",
       "<table border=\"1\" class=\"dataframe\">\n",
       "  <thead>\n",
       "    <tr style=\"text-align: right;\">\n",
       "      <th></th>\n",
       "      <th>limit weight</th>\n",
       "      <th>adjustment speed</th>\n",
       "      <th>slowing down length</th>\n",
       "      <th>real weight</th>\n",
       "      <th>visibility</th>\n",
       "      <th>normality</th>\n",
       "    </tr>\n",
       "  </thead>\n",
       "  <tbody>\n",
       "    <tr>\n",
       "      <th>0</th>\n",
       "      <td>100</td>\n",
       "      <td>1.01</td>\n",
       "      <td>13</td>\n",
       "      <td>108</td>\n",
       "      <td>26.05</td>\n",
       "      <td>정상</td>\n",
       "    </tr>\n",
       "    <tr>\n",
       "      <th>1</th>\n",
       "      <td>100</td>\n",
       "      <td>50.00</td>\n",
       "      <td>100</td>\n",
       "      <td>1781</td>\n",
       "      <td>50.34</td>\n",
       "      <td>불량</td>\n",
       "    </tr>\n",
       "    <tr>\n",
       "      <th>2</th>\n",
       "      <td>100</td>\n",
       "      <td>50.00</td>\n",
       "      <td>100</td>\n",
       "      <td>1808</td>\n",
       "      <td>48.80</td>\n",
       "      <td>불량</td>\n",
       "    </tr>\n",
       "    <tr>\n",
       "      <th>3</th>\n",
       "      <td>200</td>\n",
       "      <td>1.01</td>\n",
       "      <td>13</td>\n",
       "      <td>254</td>\n",
       "      <td>35.85</td>\n",
       "      <td>정상</td>\n",
       "    </tr>\n",
       "    <tr>\n",
       "      <th>4</th>\n",
       "      <td>300</td>\n",
       "      <td>1.01</td>\n",
       "      <td>9</td>\n",
       "      <td>344</td>\n",
       "      <td>36.05</td>\n",
       "      <td>정상</td>\n",
       "    </tr>\n",
       "  </tbody>\n",
       "</table>\n",
       "</div>"
      ],
      "text/plain": [
       "   limit weight  adjustment speed  slowing down length  real weight  \\\n",
       "0           100              1.01                   13          108   \n",
       "1           100             50.00                  100         1781   \n",
       "2           100             50.00                  100         1808   \n",
       "3           200              1.01                   13          254   \n",
       "4           300              1.01                    9          344   \n",
       "\n",
       "   visibility normality  \n",
       "0       26.05        정상  \n",
       "1       50.34        불량  \n",
       "2       48.80        불량  \n",
       "3       35.85        정상  \n",
       "4       36.05        정상  "
      ]
     },
     "execution_count": 4,
     "metadata": {},
     "output_type": "execute_result"
    }
   ],
   "source": [
    "df.head()"
   ]
  },
  {
   "cell_type": "code",
   "execution_count": 5,
   "id": "4c55281f",
   "metadata": {},
   "outputs": [
    {
     "data": {
      "text/html": [
       "<div>\n",
       "<style scoped>\n",
       "    .dataframe tbody tr th:only-of-type {\n",
       "        vertical-align: middle;\n",
       "    }\n",
       "\n",
       "    .dataframe tbody tr th {\n",
       "        vertical-align: top;\n",
       "    }\n",
       "\n",
       "    .dataframe thead th {\n",
       "        text-align: right;\n",
       "    }\n",
       "</style>\n",
       "<table border=\"1\" class=\"dataframe\">\n",
       "  <thead>\n",
       "    <tr style=\"text-align: right;\">\n",
       "      <th></th>\n",
       "      <th>limit weight</th>\n",
       "      <th>adjustment speed</th>\n",
       "      <th>slowing down length</th>\n",
       "      <th>real weight</th>\n",
       "      <th>visibility</th>\n",
       "      <th>normality</th>\n",
       "    </tr>\n",
       "  </thead>\n",
       "  <tbody>\n",
       "    <tr>\n",
       "      <th>34</th>\n",
       "      <td>1000</td>\n",
       "      <td>10.00</td>\n",
       "      <td>200</td>\n",
       "      <td>1267</td>\n",
       "      <td>39.63</td>\n",
       "      <td>정상</td>\n",
       "    </tr>\n",
       "    <tr>\n",
       "      <th>35</th>\n",
       "      <td>1000</td>\n",
       "      <td>20.00</td>\n",
       "      <td>13</td>\n",
       "      <td>1337</td>\n",
       "      <td>42.17</td>\n",
       "      <td>정상</td>\n",
       "    </tr>\n",
       "    <tr>\n",
       "      <th>36</th>\n",
       "      <td>1000</td>\n",
       "      <td>1.31</td>\n",
       "      <td>13</td>\n",
       "      <td>1018</td>\n",
       "      <td>45.90</td>\n",
       "      <td>정상</td>\n",
       "    </tr>\n",
       "    <tr>\n",
       "      <th>37</th>\n",
       "      <td>1000</td>\n",
       "      <td>1.01</td>\n",
       "      <td>13</td>\n",
       "      <td>1062</td>\n",
       "      <td>47.67</td>\n",
       "      <td>정상</td>\n",
       "    </tr>\n",
       "    <tr>\n",
       "      <th>38</th>\n",
       "      <td>1000</td>\n",
       "      <td>50.00</td>\n",
       "      <td>200</td>\n",
       "      <td>1783</td>\n",
       "      <td>52.72</td>\n",
       "      <td>불량</td>\n",
       "    </tr>\n",
       "  </tbody>\n",
       "</table>\n",
       "</div>"
      ],
      "text/plain": [
       "    limit weight  adjustment speed  slowing down length  real weight  \\\n",
       "34          1000             10.00                  200         1267   \n",
       "35          1000             20.00                   13         1337   \n",
       "36          1000              1.31                   13         1018   \n",
       "37          1000              1.01                   13         1062   \n",
       "38          1000             50.00                  200         1783   \n",
       "\n",
       "    visibility normality  \n",
       "34       39.63        정상  \n",
       "35       42.17        정상  \n",
       "36       45.90        정상  \n",
       "37       47.67        정상  \n",
       "38       52.72        불량  "
      ]
     },
     "execution_count": 5,
     "metadata": {},
     "output_type": "execute_result"
    }
   ],
   "source": [
    "df.tail()"
   ]
  },
  {
   "cell_type": "code",
   "execution_count": 6,
   "id": "077e76f9",
   "metadata": {},
   "outputs": [
    {
     "name": "stderr",
     "output_type": "stream",
     "text": [
      "C:\\Users\\tivwn\\AppData\\Local\\Temp/ipykernel_6912/1320963642.py:1: FutureWarning: In a future version of pandas all arguments of DataFrame.drop except for the argument 'labels' will be keyword-only\n",
      "  df1 = df.drop(['normality'],1)\n"
     ]
    }
   ],
   "source": [
    "df1 = df.drop(['normality'],1)"
   ]
  },
  {
   "cell_type": "code",
   "execution_count": 7,
   "id": "e66b7eda",
   "metadata": {},
   "outputs": [
    {
     "data": {
      "text/html": [
       "<div>\n",
       "<style scoped>\n",
       "    .dataframe tbody tr th:only-of-type {\n",
       "        vertical-align: middle;\n",
       "    }\n",
       "\n",
       "    .dataframe tbody tr th {\n",
       "        vertical-align: top;\n",
       "    }\n",
       "\n",
       "    .dataframe thead th {\n",
       "        text-align: right;\n",
       "    }\n",
       "</style>\n",
       "<table border=\"1\" class=\"dataframe\">\n",
       "  <thead>\n",
       "    <tr style=\"text-align: right;\">\n",
       "      <th></th>\n",
       "      <th>limit weight</th>\n",
       "      <th>adjustment speed</th>\n",
       "      <th>slowing down length</th>\n",
       "      <th>real weight</th>\n",
       "      <th>visibility</th>\n",
       "    </tr>\n",
       "  </thead>\n",
       "  <tbody>\n",
       "    <tr>\n",
       "      <th>0</th>\n",
       "      <td>100</td>\n",
       "      <td>1.01</td>\n",
       "      <td>13</td>\n",
       "      <td>108</td>\n",
       "      <td>26.05</td>\n",
       "    </tr>\n",
       "    <tr>\n",
       "      <th>1</th>\n",
       "      <td>100</td>\n",
       "      <td>50.00</td>\n",
       "      <td>100</td>\n",
       "      <td>1781</td>\n",
       "      <td>50.34</td>\n",
       "    </tr>\n",
       "    <tr>\n",
       "      <th>2</th>\n",
       "      <td>100</td>\n",
       "      <td>50.00</td>\n",
       "      <td>100</td>\n",
       "      <td>1808</td>\n",
       "      <td>48.80</td>\n",
       "    </tr>\n",
       "    <tr>\n",
       "      <th>3</th>\n",
       "      <td>200</td>\n",
       "      <td>1.01</td>\n",
       "      <td>13</td>\n",
       "      <td>254</td>\n",
       "      <td>35.85</td>\n",
       "    </tr>\n",
       "    <tr>\n",
       "      <th>4</th>\n",
       "      <td>300</td>\n",
       "      <td>1.01</td>\n",
       "      <td>9</td>\n",
       "      <td>344</td>\n",
       "      <td>36.05</td>\n",
       "    </tr>\n",
       "  </tbody>\n",
       "</table>\n",
       "</div>"
      ],
      "text/plain": [
       "   limit weight  adjustment speed  slowing down length  real weight  \\\n",
       "0           100              1.01                   13          108   \n",
       "1           100             50.00                  100         1781   \n",
       "2           100             50.00                  100         1808   \n",
       "3           200              1.01                   13          254   \n",
       "4           300              1.01                    9          344   \n",
       "\n",
       "   visibility  \n",
       "0       26.05  \n",
       "1       50.34  \n",
       "2       48.80  \n",
       "3       35.85  \n",
       "4       36.05  "
      ]
     },
     "execution_count": 7,
     "metadata": {},
     "output_type": "execute_result"
    }
   ],
   "source": [
    "df1.head()"
   ]
  },
  {
   "cell_type": "code",
   "execution_count": 8,
   "id": "08e90469",
   "metadata": {},
   "outputs": [
    {
     "data": {
      "text/html": [
       "<div>\n",
       "<style scoped>\n",
       "    .dataframe tbody tr th:only-of-type {\n",
       "        vertical-align: middle;\n",
       "    }\n",
       "\n",
       "    .dataframe tbody tr th {\n",
       "        vertical-align: top;\n",
       "    }\n",
       "\n",
       "    .dataframe thead th {\n",
       "        text-align: right;\n",
       "    }\n",
       "</style>\n",
       "<table border=\"1\" class=\"dataframe\">\n",
       "  <thead>\n",
       "    <tr style=\"text-align: right;\">\n",
       "      <th></th>\n",
       "      <th>limit weight</th>\n",
       "      <th>adjustment speed</th>\n",
       "      <th>slowing down length</th>\n",
       "      <th>real weight</th>\n",
       "      <th>visibility</th>\n",
       "    </tr>\n",
       "  </thead>\n",
       "  <tbody>\n",
       "    <tr>\n",
       "      <th>34</th>\n",
       "      <td>1000</td>\n",
       "      <td>10.00</td>\n",
       "      <td>200</td>\n",
       "      <td>1267</td>\n",
       "      <td>39.63</td>\n",
       "    </tr>\n",
       "    <tr>\n",
       "      <th>35</th>\n",
       "      <td>1000</td>\n",
       "      <td>20.00</td>\n",
       "      <td>13</td>\n",
       "      <td>1337</td>\n",
       "      <td>42.17</td>\n",
       "    </tr>\n",
       "    <tr>\n",
       "      <th>36</th>\n",
       "      <td>1000</td>\n",
       "      <td>1.31</td>\n",
       "      <td>13</td>\n",
       "      <td>1018</td>\n",
       "      <td>45.90</td>\n",
       "    </tr>\n",
       "    <tr>\n",
       "      <th>37</th>\n",
       "      <td>1000</td>\n",
       "      <td>1.01</td>\n",
       "      <td>13</td>\n",
       "      <td>1062</td>\n",
       "      <td>47.67</td>\n",
       "    </tr>\n",
       "    <tr>\n",
       "      <th>38</th>\n",
       "      <td>1000</td>\n",
       "      <td>50.00</td>\n",
       "      <td>200</td>\n",
       "      <td>1783</td>\n",
       "      <td>52.72</td>\n",
       "    </tr>\n",
       "  </tbody>\n",
       "</table>\n",
       "</div>"
      ],
      "text/plain": [
       "    limit weight  adjustment speed  slowing down length  real weight  \\\n",
       "34          1000             10.00                  200         1267   \n",
       "35          1000             20.00                   13         1337   \n",
       "36          1000              1.31                   13         1018   \n",
       "37          1000              1.01                   13         1062   \n",
       "38          1000             50.00                  200         1783   \n",
       "\n",
       "    visibility  \n",
       "34       39.63  \n",
       "35       42.17  \n",
       "36       45.90  \n",
       "37       47.67  \n",
       "38       52.72  "
      ]
     },
     "execution_count": 8,
     "metadata": {},
     "output_type": "execute_result"
    }
   ],
   "source": [
    "df1.tail()"
   ]
  },
  {
   "cell_type": "code",
   "execution_count": 9,
   "id": "3a788be7",
   "metadata": {},
   "outputs": [
    {
     "name": "stdout",
     "output_type": "stream",
     "text": [
      "<class 'pandas.core.frame.DataFrame'>\n",
      "RangeIndex: 39 entries, 0 to 38\n",
      "Data columns (total 5 columns):\n",
      " #   Column               Non-Null Count  Dtype  \n",
      "---  ------               --------------  -----  \n",
      " 0   limit weight         39 non-null     int64  \n",
      " 1   adjustment speed     39 non-null     float64\n",
      " 2   slowing down length  39 non-null     int64  \n",
      " 3   real weight          39 non-null     int64  \n",
      " 4   visibility           39 non-null     float64\n",
      "dtypes: float64(2), int64(3)\n",
      "memory usage: 1.6 KB\n"
     ]
    }
   ],
   "source": [
    "df1.info()"
   ]
  },
  {
   "cell_type": "code",
   "execution_count": 10,
   "id": "1d5723be",
   "metadata": {},
   "outputs": [],
   "source": [
    "import matplotlib.pyplot as plt\n",
    "import seaborn as sns"
   ]
  },
  {
   "cell_type": "code",
   "execution_count": 11,
   "id": "11ccae1f",
   "metadata": {},
   "outputs": [
    {
     "data": {
      "image/png": "[encoded data removed]",
      "text/plain": [
       "<Figure size 1080x288 with 4 Axes>"
      ]
     },
     "metadata": {
      "needs_background": "light"
     },
     "output_type": "display_data"
    }
   ],
   "source": [
    "fig,axs = plt.subplots(figsize = (15,4), ncols = 4)\n",
    "lm_features = ['limit weight','adjustment speed','slowing down length', 'real weight']\n",
    "\n",
    "for i, feature in enumerate(lm_features):\n",
    "    col = int(i%4)\n",
    "    sns.regplot(x=feature, y = 'visibility', data = df1, ax = axs[col])"
   ]
  },
  {
   "cell_type": "code",
   "execution_count": 12,
   "id": "e5ae2f15",
   "metadata": {},
   "outputs": [
    {
     "name": "stdout",
     "output_type": "stream",
     "text": [
      "limit weight            728.205128\n",
      "adjustment speed         15.020256\n",
      "slowing down length      32.435897\n",
      "real weight            1053.384615\n",
      "visibility               42.996923\n",
      "dtype: float64\n",
      "*****\n",
      "limit weight           114709.851552\n",
      "adjustment speed          396.041524\n",
      "slowing down length      2335.673414\n",
      "real weight            258942.821862\n",
      "visibility                 99.189206\n",
      "dtype: float64\n"
     ]
    }
   ],
   "source": [
    "print(df1.mean())\n",
    "print('*****')\n",
    "print(df1.var())"
   ]
  },
  {
   "cell_type": "markdown",
   "id": "cf2ac2bb",
   "metadata": {},
   "source": [
    "# modeling"
   ]
  },
  {
   "cell_type": "code",
   "execution_count": 13,
   "id": "0d0833e8",
   "metadata": {},
   "outputs": [
    {
     "name": "stderr",
     "output_type": "stream",
     "text": [
      "C:\\Users\\tivwn\\AppData\\Local\\Temp/ipykernel_6912/513702552.py:1: FutureWarning: In a future version of pandas all arguments of DataFrame.drop except for the argument 'labels' will be keyword-only\n",
      "  x = df1.drop(['visibility'],1)\n"
     ]
    }
   ],
   "source": [
    "x = df1.drop(['visibility'],1)\n",
    "y = df1['visibility']"
   ]
  },
  {
   "cell_type": "code",
   "execution_count": 14,
   "id": "7d6afdf9",
   "metadata": {},
   "outputs": [],
   "source": [
    "from sklearn.model_selection import train_test_split\n",
    "from sklearn.linear_model import LinearRegression\n",
    "from sklearn.metrics import mean_squared_error, r2_score"
   ]
  },
  {
   "cell_type": "code",
   "execution_count": 15,
   "id": "514752f9",
   "metadata": {},
   "outputs": [],
   "source": [
    "X_train, X_test, y_train, y_test = train_test_split(x, y, test_size = 0.2, random_state = 100)"
   ]
  },
  {
   "cell_type": "code",
   "execution_count": 16,
   "id": "bb1cbfec",
   "metadata": {},
   "outputs": [],
   "source": [
    "LR = LinearRegression()\n",
    "model = LR.fit(X_train,y_train)"
   ]
  },
  {
   "cell_type": "code",
   "execution_count": 17,
   "id": "433d5547",
   "metadata": {},
   "outputs": [
    {
     "name": "stdout",
     "output_type": "stream",
     "text": [
      "mse: 23.997925493928566 rmse: 4.898767752601522\n",
      "R2 score: 0.824\n"
     ]
    }
   ],
   "source": [
    "pred = model.predict(X_test)\n",
    "mse = mean_squared_error(y_test, pred)\n",
    "rmse = np.sqrt(mse)\n",
    "print('mse:',mse, 'rmse:',rmse)\n",
    "print('R2 score: {0:.3f}'.format(r2_score(y_test, pred)))"
   ]
  },
  {
   "cell_type": "code",
   "execution_count": 18,
   "id": "2ae1e69b",
   "metadata": {},
   "outputs": [
    {
     "name": "stdout",
     "output_type": "stream",
     "text": [
      "27.140819953942362\n"
     ]
    },
    {
     "data": {
      "text/plain": [
       "adjustment speed       0.031037\n",
       "real weight            0.010980\n",
       "slowing down length    0.007722\n",
       "limit weight           0.004918\n",
       "dtype: float64"
      ]
     },
     "execution_count": 18,
     "metadata": {},
     "output_type": "execute_result"
    }
   ],
   "source": [
    "print(model.intercept_)\n",
    "coeff = pd.Series(model.coef_, index = x.columns)\n",
    "coeff.sort_values(ascending = False)"
   ]
  },
  {
   "cell_type": "markdown",
   "id": "94c8a516",
   "metadata": {},
   "source": [
    "# 잔차분석"
   ]
  },
  {
   "cell_type": "code",
   "execution_count": 19,
   "id": "40d234a6",
   "metadata": {},
   "outputs": [],
   "source": [
    "from scipy import stats"
   ]
  },
  {
   "cell_type": "code",
   "execution_count": 20,
   "id": "1d5d8e7e",
   "metadata": {},
   "outputs": [
    {
     "data": {
      "text/plain": [
       "((array([-1.38519806, -0.83757156, -0.46579419, -0.15039337,  0.15039337,\n",
       "          0.46579419,  0.83757156,  1.38519806]),\n",
       "  array([-6.21898767, -4.65212873, -2.90018321, -2.01218358,  0.62733587,\n",
       "          0.85564134,  3.8187824 , 10.17332678])),\n",
       " (5.585545462092788, -0.03854959870061072, 0.9641314809036158))"
      ]
     },
     "execution_count": 20,
     "metadata": {},
     "output_type": "execute_result"
    },
    {
     "data": {
      "image/png": "[encoded data removed]",
      "text/plain": [
       "<Figure size 432x288 with 1 Axes>"
      ]
     },
     "metadata": {
      "needs_background": "light"
     },
     "output_type": "display_data"
    }
   ],
   "source": [
    "res = y_test - pred\n",
    "stats.probplot(res, plot = plt)"
   ]
  },
  {
   "cell_type": "code",
   "execution_count": 21,
   "id": "41df1d9e",
   "metadata": {},
   "outputs": [
    {
     "data": {
      "text/plain": [
       "ShapiroResult(statistic=0.935974657535553, pvalue=0.5719590187072754)"
      ]
     },
     "execution_count": 21,
     "metadata": {},
     "output_type": "execute_result"
    }
   ],
   "source": [
    "stats.shapiro(res)"
   ]
  },
  {
   "cell_type": "code",
   "execution_count": 22,
   "id": "75ca2a49",
   "metadata": {},
   "outputs": [
    {
     "data": {
      "text/plain": [
       "<matplotlib.collections.PathCollection at 0x245c282ff70>"
      ]
     },
     "execution_count": 22,
     "metadata": {},
     "output_type": "execute_result"
    },
    {
     "data": {
      "image/png": "[encoded data removed]",
      "text/plain": [
       "<Figure size 432x288 with 1 Axes>"
      ]
     },
     "metadata": {
      "needs_background": "light"
     },
     "output_type": "display_data"
    }
   ],
   "source": [
    "plt.scatter(pred, res)"
   ]
  },
  {
   "cell_type": "code",
   "execution_count": 23,
   "id": "8bcf4070",
   "metadata": {},
   "outputs": [
    {
     "name": "stderr",
     "output_type": "stream",
     "text": [
      "C:\\Users\\tivwn\\anaconda3\\lib\\site-packages\\seaborn\\_decorators.py:36: FutureWarning: Pass the following variables as keyword args: x, y. From version 0.12, the only valid positional argument will be `data`, and passing other arguments without an explicit keyword will result in an error or misinterpretation.\n",
      "  warnings.warn(\n"
     ]
    },
    {
     "data": {
      "text/plain": [
       "<AxesSubplot:ylabel='visibility'>"
      ]
     },
     "execution_count": 23,
     "metadata": {},
     "output_type": "execute_result"
    },
    {
     "data": {
      "image/png": "[encoded data removed]",
      "text/plain": [
       "<Figure size 432x288 with 1 Axes>"
      ]
     },
     "metadata": {
      "needs_background": "light"
     },
     "output_type": "display_data"
    }
   ],
   "source": [
    "sns.regplot(pred, res, lowess = True, line_kws = {'color':'red'})"
   ]
  },
  {
   "cell_type": "markdown",
   "id": "3985f55c",
   "metadata": {},
   "source": [
    "# systematization"
   ]
  },
  {
   "cell_type": "code",
   "execution_count": 24,
   "id": "a3958ce9",
   "metadata": {},
   "outputs": [],
   "source": [
    "import pickle\n",
    "import joblib"
   ]
  },
  {
   "cell_type": "code",
   "execution_count": 25,
   "id": "753e54c4",
   "metadata": {},
   "outputs": [
    {
     "data": {
      "text/plain": [
       "['./press coin2.pkl']"
      ]
     },
     "execution_count": 25,
     "metadata": {},
     "output_type": "execute_result"
    }
   ],
   "source": [
    "joblib.dump(model, './press_coin2.pkl')"
   ]
  },
  {
   "cell_type": "code",
   "execution_count": 26,
   "id": "d5e5f4b4",
   "metadata": {},
   "outputs": [],
   "source": [
    "def find_nearest(array, value):\n",
    "    array = np.asarray(array)\n",
    "    idx = (np.abs(array - value)).argmin()\n",
    "    return array[idx]"
   ]
  },
  {
   "cell_type": "code",
   "execution_count": 28,
   "id": "e124fe1a",
   "metadata": {},
   "outputs": [],
   "source": [
    "def make_path(file_name):\n",
    "    path = ''\n",
    "    join = '{}/{}.png'.format(path,file_name)\n",
    "    return join"
   ]
  },
  {
   "cell_type": "code",
   "execution_count": 29,
   "id": "0242a89c",
   "metadata": {},
   "outputs": [],
   "source": [
    "from PIL import Image"
   ]
  },
  {
   "cell_type": "code",
   "execution_count": 28,
   "id": "94a26cee",
   "metadata": {},
   "outputs": [],
   "source": [
    "def simul_coin_press():\n",
    "    model1 = joblib.load('press_coin2.pkl')\n",
    "    \n",
    "    df = pd.read_excel(\"coindata.xlsx\")\n",
    "    visi = df['visibility'].values\n",
    "    \n",
    "    print('제한하중을 입력하세요:')\n",
    "    limit_w = float(input())\n",
    "    print('조정속도를 입력하세요:')\n",
    "    adj_speed = float(input())\n",
    "    print('감속거리를 입력하세요:')\n",
    "    sd_length = float(input())\n",
    "    print('실제하중을 입력하세요:')\n",
    "    real_w = float(input())\n",
    "    \n",
    "    test_data = pd.DataFrame([[limit_w],[adj_speed],[sd_length],[real_w]]).T\n",
    "    \n",
    "    visibility = model1.predict(test_data)\n",
    "    \n",
    "    file_name = str(find_nearest(visi,visibility))\n",
    "    \n",
    "    path = make_path(file_name)\n",
    "\n",
    "    print('예상 선명도:',visibility)\n",
    "    img = Image.open(path)\n",
    "    image = np.array(img)\n",
    "    \n",
    "    plt.imshow(image)\n",
    "    plt.show()"
   ]
  },
  {
   "cell_type": "code",
   "execution_count": null,
   "id": "864b1bb5",
   "metadata": {},
   "outputs": [],
   "source": [
    "simul_coin_press"
   ]
  }
 ],
 "metadata": {
  "kernelspec": {
   "display_name": "Python 3 (ipykernel)",
   "language": "python",
   "name": "python3"
  },
  "language_info": {
   "codemirror_mode": {
    "name": "ipython",
    "version": 3
   },
   "file_extension": ".py",
   "mimetype": "text/x-python",
   "name": "python",
   "nbconvert_exporter": "python",
   "pygments_lexer": "ipython3",
   "version": "3.9.7"
  }
 },
 "nbformat": 4,
 "nbformat_minor": 5
}
